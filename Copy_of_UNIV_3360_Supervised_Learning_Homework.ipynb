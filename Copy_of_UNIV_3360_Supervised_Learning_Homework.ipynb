{
  "nbformat": 4,
  "nbformat_minor": 0,
  "metadata": {
    "colab": {
      "name": "Copy of UNIV 3360 - Supervised Learning Homework.ipynb",
      "provenance": [],
      "collapsed_sections": [],
      "include_colab_link": true
    },
    "kernelspec": {
      "name": "python3",
      "display_name": "Python 3"
    }
  },
  "cells": [
    {
      "cell_type": "markdown",
      "metadata": {
        "id": "view-in-github",
        "colab_type": "text"
      },
      "source": [
        "<a href=\"https://colab.research.google.com/github/annaouyang/hello-world/blob/master/Copy_of_UNIV_3360_Supervised_Learning_Homework.ipynb\" target=\"_parent\"><img src=\"https://colab.research.google.com/assets/colab-badge.svg\" alt=\"Open In Colab\"/></a>"
      ]
    },
    {
      "cell_type": "markdown",
      "metadata": {
        "id": "49zgToDUsyFv",
        "colab_type": "text"
      },
      "source": [
        "# Supervised Learning Homework\n",
        "\n",
        "In this assignment, you will get hand-on experience using a few supervised learning models on a variety of different datasets. Refer to the lecture slides on Brightspace for explainations of the supervised learning algorithms and the in-class example notebooks for examples on how to use Python and Scikit-learn for supervised learning. In addition, here are the links to scikit-learn documentation which may be helpful throughout this homework:\n",
        "* https://scikit-learn.org/stable/modules/generated/sklearn.linear_model.LinearRegression.html\n",
        "* https://scikit-learn.org/stable/modules/generated/sklearn.linear_model.Lasso.html\n",
        "* https://scikit-learn.org/stable/modules/generated/sklearn.svm.SVC.html"
      ]
    },
    {
      "cell_type": "code",
      "metadata": {
        "id": "m5B_tYK-VvaV",
        "colab_type": "code",
        "colab": {}
      },
      "source": [
        "import numpy as np\n",
        "import matplotlib.pyplot as plt\n",
        "import pandas as pd\n",
        "\n",
        "from sklearn.datasets import make_moons\n",
        "from sklearn.linear_model import LinearRegression, Lasso\n",
        "from sklearn.svm import SVC\n",
        "from sklearn.model_selection import train_test_split\n",
        "import sklearn.metrics as metrics\n",
        "\n",
        "np.set_printoptions(suppress=True)\n",
        "np.random.seed(345)"
      ],
      "execution_count": 0,
      "outputs": []
    },
    {
      "cell_type": "markdown",
      "metadata": {
        "id": "Uq-M20x7Y_DJ",
        "colab_type": "text"
      },
      "source": [
        "# Regression"
      ]
    },
    {
      "cell_type": "markdown",
      "metadata": {
        "id": "XxnIbxueZCV5",
        "colab_type": "text"
      },
      "source": [
        "## Dataset\n",
        "\n",
        "For this assignment, we will be working with data collected from the US census about the frequency of violent crimes in different regions. In this data, we are attempting to predict the number of required of violent crimes per 100,000 citizens in an area based on a variety of census data.\n",
        "\n",
        "We can use Pandas to load the data from CSV file by running the cell below."
      ]
    },
    {
      "cell_type": "code",
      "metadata": {
        "id": "bX5etrKBkeCt",
        "colab_type": "code",
        "outputId": "f108e082-727d-4090-fd63-85836a3e6501",
        "colab": {
          "base_uri": "https://localhost:8080/",
          "height": 253
        }
      },
      "source": [
        "data = pd.read_csv(\"https://raw.githubusercontent.com/univ-3360-vu-smartcities/example-notebooks/master/datasets/regression/crime_data.csv\")\n",
        "data.head()"
      ],
      "execution_count": 2,
      "outputs": [
        {
          "output_type": "execute_result",
          "data": {
            "text/html": [
              "<div>\n",
              "<style scoped>\n",
              "    .dataframe tbody tr th:only-of-type {\n",
              "        vertical-align: middle;\n",
              "    }\n",
              "\n",
              "    .dataframe tbody tr th {\n",
              "        vertical-align: top;\n",
              "    }\n",
              "\n",
              "    .dataframe thead th {\n",
              "        text-align: right;\n",
              "    }\n",
              "</style>\n",
              "<table border=\"1\" class=\"dataframe\">\n",
              "  <thead>\n",
              "    <tr style=\"text-align: right;\">\n",
              "      <th></th>\n",
              "      <th>state</th>\n",
              "      <th>fold</th>\n",
              "      <th>population</th>\n",
              "      <th>householdsize</th>\n",
              "      <th>racepctblack</th>\n",
              "      <th>racePctWhite</th>\n",
              "      <th>racePctAsian</th>\n",
              "      <th>racePctHisp</th>\n",
              "      <th>agePct12t21</th>\n",
              "      <th>agePct12t29</th>\n",
              "      <th>agePct16t24</th>\n",
              "      <th>agePct65up</th>\n",
              "      <th>numbUrban</th>\n",
              "      <th>pctUrban</th>\n",
              "      <th>medIncome</th>\n",
              "      <th>pctWWage</th>\n",
              "      <th>pctWFarmSelf</th>\n",
              "      <th>pctWInvInc</th>\n",
              "      <th>pctWSocSec</th>\n",
              "      <th>pctWPubAsst</th>\n",
              "      <th>pctWRetire</th>\n",
              "      <th>medFamInc</th>\n",
              "      <th>perCapInc</th>\n",
              "      <th>whitePerCap</th>\n",
              "      <th>blackPerCap</th>\n",
              "      <th>indianPerCap</th>\n",
              "      <th>AsianPerCap</th>\n",
              "      <th>OtherPerCap</th>\n",
              "      <th>HispPerCap</th>\n",
              "      <th>NumUnderPov</th>\n",
              "      <th>PctPopUnderPov</th>\n",
              "      <th>PctLess9thGrade</th>\n",
              "      <th>PctNotHSGrad</th>\n",
              "      <th>PctBSorMore</th>\n",
              "      <th>PctUnemployed</th>\n",
              "      <th>PctEmploy</th>\n",
              "      <th>PctEmplManu</th>\n",
              "      <th>PctEmplProfServ</th>\n",
              "      <th>PctOccupManu</th>\n",
              "      <th>PctOccupMgmtProf</th>\n",
              "      <th>...</th>\n",
              "      <th>PctSpeakEnglOnly</th>\n",
              "      <th>PctNotSpeakEnglWell</th>\n",
              "      <th>PctLargHouseFam</th>\n",
              "      <th>PctLargHouseOccup</th>\n",
              "      <th>PersPerOccupHous</th>\n",
              "      <th>PersPerOwnOccHous</th>\n",
              "      <th>PersPerRentOccHous</th>\n",
              "      <th>PctPersOwnOccup</th>\n",
              "      <th>PctPersDenseHous</th>\n",
              "      <th>PctHousLess3BR</th>\n",
              "      <th>MedNumBR</th>\n",
              "      <th>HousVacant</th>\n",
              "      <th>PctHousOccup</th>\n",
              "      <th>PctHousOwnOcc</th>\n",
              "      <th>PctVacantBoarded</th>\n",
              "      <th>PctVacMore6Mos</th>\n",
              "      <th>MedYrHousBuilt</th>\n",
              "      <th>PctHousNoPhone</th>\n",
              "      <th>PctWOFullPlumb</th>\n",
              "      <th>OwnOccLowQuart</th>\n",
              "      <th>OwnOccMedVal</th>\n",
              "      <th>OwnOccHiQuart</th>\n",
              "      <th>RentLowQ</th>\n",
              "      <th>RentMedian</th>\n",
              "      <th>RentHighQ</th>\n",
              "      <th>MedRent</th>\n",
              "      <th>MedRentPctHousInc</th>\n",
              "      <th>MedOwnCostPctInc</th>\n",
              "      <th>MedOwnCostPctIncNoMtg</th>\n",
              "      <th>NumInShelters</th>\n",
              "      <th>NumStreet</th>\n",
              "      <th>PctForeignBorn</th>\n",
              "      <th>PctBornSameState</th>\n",
              "      <th>PctSameHouse85</th>\n",
              "      <th>PctSameCity85</th>\n",
              "      <th>PctSameState85</th>\n",
              "      <th>LandArea</th>\n",
              "      <th>PopDens</th>\n",
              "      <th>PctUsePubTrans</th>\n",
              "      <th>ViolentCrimesPerPop</th>\n",
              "    </tr>\n",
              "  </thead>\n",
              "  <tbody>\n",
              "    <tr>\n",
              "      <th>0</th>\n",
              "      <td>8</td>\n",
              "      <td>1</td>\n",
              "      <td>0.19</td>\n",
              "      <td>0.33</td>\n",
              "      <td>0.02</td>\n",
              "      <td>0.90</td>\n",
              "      <td>0.12</td>\n",
              "      <td>0.17</td>\n",
              "      <td>0.34</td>\n",
              "      <td>0.47</td>\n",
              "      <td>0.29</td>\n",
              "      <td>0.32</td>\n",
              "      <td>0.20</td>\n",
              "      <td>1.0</td>\n",
              "      <td>0.37</td>\n",
              "      <td>0.72</td>\n",
              "      <td>0.34</td>\n",
              "      <td>0.60</td>\n",
              "      <td>0.29</td>\n",
              "      <td>0.15</td>\n",
              "      <td>0.43</td>\n",
              "      <td>0.39</td>\n",
              "      <td>0.40</td>\n",
              "      <td>0.39</td>\n",
              "      <td>0.32</td>\n",
              "      <td>0.27</td>\n",
              "      <td>0.27</td>\n",
              "      <td>0.36</td>\n",
              "      <td>0.41</td>\n",
              "      <td>0.08</td>\n",
              "      <td>0.19</td>\n",
              "      <td>0.10</td>\n",
              "      <td>0.18</td>\n",
              "      <td>0.48</td>\n",
              "      <td>0.27</td>\n",
              "      <td>0.68</td>\n",
              "      <td>0.23</td>\n",
              "      <td>0.41</td>\n",
              "      <td>0.25</td>\n",
              "      <td>0.52</td>\n",
              "      <td>...</td>\n",
              "      <td>0.89</td>\n",
              "      <td>0.06</td>\n",
              "      <td>0.14</td>\n",
              "      <td>0.13</td>\n",
              "      <td>0.33</td>\n",
              "      <td>0.39</td>\n",
              "      <td>0.28</td>\n",
              "      <td>0.55</td>\n",
              "      <td>0.09</td>\n",
              "      <td>0.51</td>\n",
              "      <td>0.5</td>\n",
              "      <td>0.21</td>\n",
              "      <td>0.71</td>\n",
              "      <td>0.52</td>\n",
              "      <td>0.05</td>\n",
              "      <td>0.26</td>\n",
              "      <td>0.65</td>\n",
              "      <td>0.14</td>\n",
              "      <td>0.06</td>\n",
              "      <td>0.22</td>\n",
              "      <td>0.19</td>\n",
              "      <td>0.18</td>\n",
              "      <td>0.36</td>\n",
              "      <td>0.35</td>\n",
              "      <td>0.38</td>\n",
              "      <td>0.34</td>\n",
              "      <td>0.38</td>\n",
              "      <td>0.46</td>\n",
              "      <td>0.25</td>\n",
              "      <td>0.04</td>\n",
              "      <td>0.0</td>\n",
              "      <td>0.12</td>\n",
              "      <td>0.42</td>\n",
              "      <td>0.50</td>\n",
              "      <td>0.51</td>\n",
              "      <td>0.64</td>\n",
              "      <td>0.12</td>\n",
              "      <td>0.26</td>\n",
              "      <td>0.20</td>\n",
              "      <td>20000</td>\n",
              "    </tr>\n",
              "    <tr>\n",
              "      <th>1</th>\n",
              "      <td>53</td>\n",
              "      <td>1</td>\n",
              "      <td>0.00</td>\n",
              "      <td>0.16</td>\n",
              "      <td>0.12</td>\n",
              "      <td>0.74</td>\n",
              "      <td>0.45</td>\n",
              "      <td>0.07</td>\n",
              "      <td>0.26</td>\n",
              "      <td>0.59</td>\n",
              "      <td>0.35</td>\n",
              "      <td>0.27</td>\n",
              "      <td>0.02</td>\n",
              "      <td>1.0</td>\n",
              "      <td>0.31</td>\n",
              "      <td>0.72</td>\n",
              "      <td>0.11</td>\n",
              "      <td>0.45</td>\n",
              "      <td>0.25</td>\n",
              "      <td>0.29</td>\n",
              "      <td>0.39</td>\n",
              "      <td>0.29</td>\n",
              "      <td>0.37</td>\n",
              "      <td>0.38</td>\n",
              "      <td>0.33</td>\n",
              "      <td>0.16</td>\n",
              "      <td>0.30</td>\n",
              "      <td>0.22</td>\n",
              "      <td>0.35</td>\n",
              "      <td>0.01</td>\n",
              "      <td>0.24</td>\n",
              "      <td>0.14</td>\n",
              "      <td>0.24</td>\n",
              "      <td>0.30</td>\n",
              "      <td>0.27</td>\n",
              "      <td>0.73</td>\n",
              "      <td>0.57</td>\n",
              "      <td>0.15</td>\n",
              "      <td>0.42</td>\n",
              "      <td>0.36</td>\n",
              "      <td>...</td>\n",
              "      <td>0.84</td>\n",
              "      <td>0.10</td>\n",
              "      <td>0.16</td>\n",
              "      <td>0.10</td>\n",
              "      <td>0.17</td>\n",
              "      <td>0.29</td>\n",
              "      <td>0.17</td>\n",
              "      <td>0.26</td>\n",
              "      <td>0.20</td>\n",
              "      <td>0.82</td>\n",
              "      <td>0.0</td>\n",
              "      <td>0.02</td>\n",
              "      <td>0.79</td>\n",
              "      <td>0.24</td>\n",
              "      <td>0.02</td>\n",
              "      <td>0.25</td>\n",
              "      <td>0.65</td>\n",
              "      <td>0.16</td>\n",
              "      <td>0.00</td>\n",
              "      <td>0.21</td>\n",
              "      <td>0.20</td>\n",
              "      <td>0.21</td>\n",
              "      <td>0.42</td>\n",
              "      <td>0.38</td>\n",
              "      <td>0.40</td>\n",
              "      <td>0.37</td>\n",
              "      <td>0.29</td>\n",
              "      <td>0.32</td>\n",
              "      <td>0.18</td>\n",
              "      <td>0.00</td>\n",
              "      <td>0.0</td>\n",
              "      <td>0.21</td>\n",
              "      <td>0.50</td>\n",
              "      <td>0.34</td>\n",
              "      <td>0.60</td>\n",
              "      <td>0.52</td>\n",
              "      <td>0.02</td>\n",
              "      <td>0.12</td>\n",
              "      <td>0.45</td>\n",
              "      <td>67000</td>\n",
              "    </tr>\n",
              "    <tr>\n",
              "      <th>2</th>\n",
              "      <td>24</td>\n",
              "      <td>1</td>\n",
              "      <td>0.00</td>\n",
              "      <td>0.42</td>\n",
              "      <td>0.49</td>\n",
              "      <td>0.56</td>\n",
              "      <td>0.17</td>\n",
              "      <td>0.04</td>\n",
              "      <td>0.39</td>\n",
              "      <td>0.47</td>\n",
              "      <td>0.28</td>\n",
              "      <td>0.32</td>\n",
              "      <td>0.00</td>\n",
              "      <td>0.0</td>\n",
              "      <td>0.30</td>\n",
              "      <td>0.58</td>\n",
              "      <td>0.19</td>\n",
              "      <td>0.39</td>\n",
              "      <td>0.38</td>\n",
              "      <td>0.40</td>\n",
              "      <td>0.84</td>\n",
              "      <td>0.28</td>\n",
              "      <td>0.27</td>\n",
              "      <td>0.29</td>\n",
              "      <td>0.27</td>\n",
              "      <td>0.07</td>\n",
              "      <td>0.29</td>\n",
              "      <td>0.28</td>\n",
              "      <td>0.39</td>\n",
              "      <td>0.01</td>\n",
              "      <td>0.27</td>\n",
              "      <td>0.27</td>\n",
              "      <td>0.43</td>\n",
              "      <td>0.19</td>\n",
              "      <td>0.36</td>\n",
              "      <td>0.58</td>\n",
              "      <td>0.32</td>\n",
              "      <td>0.29</td>\n",
              "      <td>0.49</td>\n",
              "      <td>0.32</td>\n",
              "      <td>...</td>\n",
              "      <td>0.88</td>\n",
              "      <td>0.04</td>\n",
              "      <td>0.20</td>\n",
              "      <td>0.20</td>\n",
              "      <td>0.46</td>\n",
              "      <td>0.52</td>\n",
              "      <td>0.43</td>\n",
              "      <td>0.42</td>\n",
              "      <td>0.15</td>\n",
              "      <td>0.51</td>\n",
              "      <td>0.5</td>\n",
              "      <td>0.01</td>\n",
              "      <td>0.86</td>\n",
              "      <td>0.41</td>\n",
              "      <td>0.29</td>\n",
              "      <td>0.30</td>\n",
              "      <td>0.52</td>\n",
              "      <td>0.47</td>\n",
              "      <td>0.45</td>\n",
              "      <td>0.18</td>\n",
              "      <td>0.17</td>\n",
              "      <td>0.16</td>\n",
              "      <td>0.27</td>\n",
              "      <td>0.29</td>\n",
              "      <td>0.27</td>\n",
              "      <td>0.31</td>\n",
              "      <td>0.48</td>\n",
              "      <td>0.39</td>\n",
              "      <td>0.28</td>\n",
              "      <td>0.00</td>\n",
              "      <td>0.0</td>\n",
              "      <td>0.14</td>\n",
              "      <td>0.49</td>\n",
              "      <td>0.54</td>\n",
              "      <td>0.67</td>\n",
              "      <td>0.56</td>\n",
              "      <td>0.01</td>\n",
              "      <td>0.21</td>\n",
              "      <td>0.02</td>\n",
              "      <td>43000</td>\n",
              "    </tr>\n",
              "    <tr>\n",
              "      <th>3</th>\n",
              "      <td>34</td>\n",
              "      <td>1</td>\n",
              "      <td>0.04</td>\n",
              "      <td>0.77</td>\n",
              "      <td>1.00</td>\n",
              "      <td>0.08</td>\n",
              "      <td>0.12</td>\n",
              "      <td>0.10</td>\n",
              "      <td>0.51</td>\n",
              "      <td>0.50</td>\n",
              "      <td>0.34</td>\n",
              "      <td>0.21</td>\n",
              "      <td>0.06</td>\n",
              "      <td>1.0</td>\n",
              "      <td>0.58</td>\n",
              "      <td>0.89</td>\n",
              "      <td>0.21</td>\n",
              "      <td>0.43</td>\n",
              "      <td>0.36</td>\n",
              "      <td>0.20</td>\n",
              "      <td>0.82</td>\n",
              "      <td>0.51</td>\n",
              "      <td>0.36</td>\n",
              "      <td>0.40</td>\n",
              "      <td>0.39</td>\n",
              "      <td>0.16</td>\n",
              "      <td>0.25</td>\n",
              "      <td>0.36</td>\n",
              "      <td>0.44</td>\n",
              "      <td>0.01</td>\n",
              "      <td>0.10</td>\n",
              "      <td>0.09</td>\n",
              "      <td>0.25</td>\n",
              "      <td>0.31</td>\n",
              "      <td>0.33</td>\n",
              "      <td>0.71</td>\n",
              "      <td>0.36</td>\n",
              "      <td>0.45</td>\n",
              "      <td>0.37</td>\n",
              "      <td>0.39</td>\n",
              "      <td>...</td>\n",
              "      <td>0.81</td>\n",
              "      <td>0.08</td>\n",
              "      <td>0.56</td>\n",
              "      <td>0.62</td>\n",
              "      <td>0.85</td>\n",
              "      <td>0.77</td>\n",
              "      <td>1.00</td>\n",
              "      <td>0.94</td>\n",
              "      <td>0.12</td>\n",
              "      <td>0.01</td>\n",
              "      <td>0.5</td>\n",
              "      <td>0.01</td>\n",
              "      <td>0.97</td>\n",
              "      <td>0.96</td>\n",
              "      <td>0.60</td>\n",
              "      <td>0.47</td>\n",
              "      <td>0.52</td>\n",
              "      <td>0.11</td>\n",
              "      <td>0.11</td>\n",
              "      <td>0.24</td>\n",
              "      <td>0.21</td>\n",
              "      <td>0.19</td>\n",
              "      <td>0.75</td>\n",
              "      <td>0.70</td>\n",
              "      <td>0.77</td>\n",
              "      <td>0.89</td>\n",
              "      <td>0.63</td>\n",
              "      <td>0.51</td>\n",
              "      <td>0.47</td>\n",
              "      <td>0.00</td>\n",
              "      <td>0.0</td>\n",
              "      <td>0.19</td>\n",
              "      <td>0.30</td>\n",
              "      <td>0.73</td>\n",
              "      <td>0.64</td>\n",
              "      <td>0.65</td>\n",
              "      <td>0.02</td>\n",
              "      <td>0.39</td>\n",
              "      <td>0.28</td>\n",
              "      <td>12000</td>\n",
              "    </tr>\n",
              "    <tr>\n",
              "      <th>4</th>\n",
              "      <td>42</td>\n",
              "      <td>1</td>\n",
              "      <td>0.01</td>\n",
              "      <td>0.55</td>\n",
              "      <td>0.02</td>\n",
              "      <td>0.95</td>\n",
              "      <td>0.09</td>\n",
              "      <td>0.05</td>\n",
              "      <td>0.38</td>\n",
              "      <td>0.38</td>\n",
              "      <td>0.23</td>\n",
              "      <td>0.36</td>\n",
              "      <td>0.02</td>\n",
              "      <td>0.9</td>\n",
              "      <td>0.50</td>\n",
              "      <td>0.72</td>\n",
              "      <td>0.16</td>\n",
              "      <td>0.68</td>\n",
              "      <td>0.44</td>\n",
              "      <td>0.11</td>\n",
              "      <td>0.71</td>\n",
              "      <td>0.46</td>\n",
              "      <td>0.43</td>\n",
              "      <td>0.41</td>\n",
              "      <td>0.28</td>\n",
              "      <td>0.00</td>\n",
              "      <td>0.74</td>\n",
              "      <td>0.51</td>\n",
              "      <td>0.48</td>\n",
              "      <td>0.00</td>\n",
              "      <td>0.06</td>\n",
              "      <td>0.25</td>\n",
              "      <td>0.30</td>\n",
              "      <td>0.33</td>\n",
              "      <td>0.12</td>\n",
              "      <td>0.65</td>\n",
              "      <td>0.67</td>\n",
              "      <td>0.38</td>\n",
              "      <td>0.42</td>\n",
              "      <td>0.46</td>\n",
              "      <td>...</td>\n",
              "      <td>0.88</td>\n",
              "      <td>0.05</td>\n",
              "      <td>0.16</td>\n",
              "      <td>0.19</td>\n",
              "      <td>0.59</td>\n",
              "      <td>0.60</td>\n",
              "      <td>0.37</td>\n",
              "      <td>0.89</td>\n",
              "      <td>0.02</td>\n",
              "      <td>0.19</td>\n",
              "      <td>0.5</td>\n",
              "      <td>0.01</td>\n",
              "      <td>0.89</td>\n",
              "      <td>0.87</td>\n",
              "      <td>0.04</td>\n",
              "      <td>0.55</td>\n",
              "      <td>0.73</td>\n",
              "      <td>0.05</td>\n",
              "      <td>0.14</td>\n",
              "      <td>0.31</td>\n",
              "      <td>0.31</td>\n",
              "      <td>0.30</td>\n",
              "      <td>0.40</td>\n",
              "      <td>0.36</td>\n",
              "      <td>0.38</td>\n",
              "      <td>0.38</td>\n",
              "      <td>0.22</td>\n",
              "      <td>0.51</td>\n",
              "      <td>0.21</td>\n",
              "      <td>0.00</td>\n",
              "      <td>0.0</td>\n",
              "      <td>0.11</td>\n",
              "      <td>0.72</td>\n",
              "      <td>0.64</td>\n",
              "      <td>0.61</td>\n",
              "      <td>0.53</td>\n",
              "      <td>0.04</td>\n",
              "      <td>0.09</td>\n",
              "      <td>0.02</td>\n",
              "      <td>3000</td>\n",
              "    </tr>\n",
              "  </tbody>\n",
              "</table>\n",
              "<p>5 rows × 102 columns</p>\n",
              "</div>"
            ],
            "text/plain": [
              "   state  fold  population  ...  PopDens  PctUsePubTrans  ViolentCrimesPerPop\n",
              "0      8     1        0.19  ...     0.26            0.20                20000\n",
              "1     53     1        0.00  ...     0.12            0.45                67000\n",
              "2     24     1        0.00  ...     0.21            0.02                43000\n",
              "3     34     1        0.04  ...     0.39            0.28                12000\n",
              "4     42     1        0.01  ...     0.09            0.02                 3000\n",
              "\n",
              "[5 rows x 102 columns]"
            ]
          },
          "metadata": {
            "tags": []
          },
          "execution_count": 2
        }
      ]
    },
    {
      "cell_type": "markdown",
      "metadata": {
        "id": "bO5bae9ojTJo",
        "colab_type": "text"
      },
      "source": [
        "In the cell below, extract the columns which represent the features to a variable called *X* and the column which represents the target value (ViolentCrimesPerPop) to a variable called *y*."
      ]
    },
    {
      "cell_type": "code",
      "metadata": {
        "id": "u4l1rPSO5Jlk",
        "colab_type": "code",
        "colab": {}
      },
      "source": [
        "X = data.drop(columns='ViolentCrimesPerPop')\n",
        "y = data['ViolentCrimesPerPop']"
      ],
      "execution_count": 0,
      "outputs": []
    },
    {
      "cell_type": "markdown",
      "metadata": {
        "id": "Hax0rb_njgbs",
        "colab_type": "text"
      },
      "source": [
        "Prepare a training and testing split of the data above, reserving 20% of the full data for testing.\n",
        "\n",
        "\n"
      ]
    },
    {
      "cell_type": "code",
      "metadata": {
        "id": "6ozRJxKtjnMd",
        "colab_type": "code",
        "colab": {}
      },
      "source": [
        "X_train, X_test, y_train, y_test = train_test_split(X, y, test_size=0.2, random_state=1)"
      ],
      "execution_count": 0,
      "outputs": []
    },
    {
      "cell_type": "markdown",
      "metadata": {
        "id": "LTwKWppZZF_h",
        "colab_type": "text"
      },
      "source": [
        "## Linear Regression\n",
        "\n",
        "In the cell below, create and train a linear regression model which uses the prepared training data to learn ViolentCrimesPerPop using the other features. Print the coefficients of the linear model."
      ]
    },
    {
      "cell_type": "code",
      "metadata": {
        "id": "IzuuZvIEYxDq",
        "colab_type": "code",
        "colab": {
          "base_uri": "https://localhost:8080/",
          "height": 459
        },
        "outputId": "ac688812-4b2b-4704-e58a-99ccb0dba111"
      },
      "source": [
        "from sklearn import linear_model\n",
        "\n",
        "# create and train linear model\n",
        "model = linear_model.LinearRegression()\n",
        "model.fit(X_train, y_train)\n",
        "\n",
        "# print coefficients of linear model\n",
        "print(\"Coefficients: \", model.coef_)"
      ],
      "execution_count": 5,
      "outputs": [
        {
          "output_type": "stream",
          "text": [
            "Coefficients:  [   -69.7967151    -101.6707585   24353.6466662    6083.75339282\n",
            "  23920.20190477  -4612.177403     1057.55407454   6547.77664361\n",
            "  18097.70855059 -30058.79998484 -10111.29751469   7689.69631164\n",
            " -22670.35375975   4034.41680108 -12819.38259502 -18873.50467316\n",
            "   3571.32437807 -12857.91045164  10115.28380685   3600.66358026\n",
            "  -8316.38285745  13468.3452144   28288.98665212 -44874.04289175\n",
            "  -3953.84647819  -3010.97774817   4149.74531075   3708.56969968\n",
            "   3395.03364832   4110.93904922 -15747.90332888  -1037.80782522\n",
            "  -3465.82332891    918.70055152   4693.48360093  38598.8411851\n",
            "  -4655.99367098  -7392.17170365   3501.69104468  17263.6891501\n",
            "  43503.01660371  23144.11004303  11738.43232052 -48642.03823227\n",
            " -17521.48097595   1636.02051572 -25158.12785981  -2816.6688247\n",
            "  -1144.43646293   4501.63229944 -19712.22571025 -17911.20149696\n",
            "  15512.92092331 -15792.99669158   5221.7452579    2263.15099502\n",
            "  -9264.05643028   7545.11103805  -9462.30376295  -5580.80077906\n",
            "  22346.94829078  -9865.60164897  -4207.47815099 -23435.11378242\n",
            "  -5856.21504268  -6531.84127782  49805.43465091  -4796.5964392\n",
            " -17633.77754145 -60582.26738979  23979.81950067  14165.14066695\n",
            "   3496.94838523  20526.17843331  -4845.90629533  49079.56913484\n",
            "   6720.42170714  -7416.91811403  -2070.94244882     31.94869068\n",
            "  -2321.51769384 -43629.95950472  43458.22568734  -8679.61941062\n",
            " -21934.97957343   -742.27711288  -6957.5945837   31292.27335801\n",
            "   4807.82620372  -4386.16972102  -6930.62355005  13987.81217981\n",
            "  14744.24629956  13122.44814982   3922.40194043   3308.53882678\n",
            "    978.595749     -747.46262891  -3857.69368259  -1181.23346036\n",
            "  -3290.9188798 ]\n"
          ],
          "name": "stdout"
        }
      ]
    },
    {
      "cell_type": "markdown",
      "metadata": {
        "id": "DPQ7IlCokQMW",
        "colab_type": "text"
      },
      "source": [
        "Evaluate the linear model on both the training data and testing data using the mean squared error, root mean squared error, and R2 coefficient metrics and print the results."
      ]
    },
    {
      "cell_type": "code",
      "metadata": {
        "id": "mLlAV3zykb8w",
        "colab_type": "code",
        "colab": {
          "base_uri": "https://localhost:8080/",
          "height": 170
        },
        "outputId": "93160e3b-360e-4df0-ab1b-b36a913c5697"
      },
      "source": [
        "from sklearn.metrics import r2_score, mean_squared_error\n",
        "\n",
        "# evaluate linear model on TRAINING data (MSE, RMSE, and R^2)\n",
        "training_data_predictions = model.predict(X_train)\n",
        "print(\"Evaluating linear regression model on TRAINING data:\")\n",
        "print(\"Mean squared error: %.2f\" % mean_squared_error(y_train, training_data_predictions))\n",
        "print(\"Root mean squared error: %.2f\" % mean_squared_error(y_train, training_data_predictions, squared=False))\n",
        "print(\"R^2 Score: %.2f\" % r2_score(y_train, training_data_predictions))\n",
        "\n",
        "# evaluate linear model on TESTING data (MSE, RMSE, and R^2)\n",
        "testing_data_predictions = model.predict(X_test)\n",
        "print(\"\\nEvaluating linear regression model on TESTING data:\")\n",
        "print(\"Mean squared error: %.2f\" % mean_squared_error(y_test, testing_data_predictions))\n",
        "print(\"Root mean squared error: %.2f\" % mean_squared_error(y_test, testing_data_predictions, squared=False))\n",
        "print(\"R^2 Score: %.2f\" % r2_score(y_test, testing_data_predictions))"
      ],
      "execution_count": 6,
      "outputs": [
        {
          "output_type": "stream",
          "text": [
            "Evaluating linear regression model on TRAINING data:\n",
            "Mean squared error: 157626929.84\n",
            "Root mean squared error: 12554.96\n",
            "R^2 Score: 0.71\n",
            "\n",
            "Evaluating linear regression model on TESTING data:\n",
            "Mean squared error: 208048749.95\n",
            "Root mean squared error: 14423.90\n",
            "R^2 Score: 0.59\n"
          ],
          "name": "stdout"
        }
      ]
    },
    {
      "cell_type": "markdown",
      "metadata": {
        "id": "UO8YWGRvmRCQ",
        "colab_type": "text"
      },
      "source": [
        "**Question:** Do you think that simple linear regression is a good model of the crime data? Explain your reasoning."
      ]
    },
    {
      "cell_type": "markdown",
      "metadata": {
        "id": "L9rLWSdumd02",
        "colab_type": "text"
      },
      "source": [
        "**Answer:** \n",
        "\n",
        "No, simple linear regression is not a good model of the crime data. On unseen data (i.e., testing data), the model only captures 59% of the variability seen in the # of violent crimes per 100,000 citizens. Furthermore, on average, the model over or underpredicts the root squared error of the # of violent crimes per 100,000 citizens by 14,423.90. Hopefully, we can find model that fits the crime data better. "
      ]
    },
    {
      "cell_type": "markdown",
      "metadata": {
        "id": "eccqpa3cdiL6",
        "colab_type": "text"
      },
      "source": [
        "## Lasso Regression\n",
        "\n",
        "Create and train a lasso regression model for the violent crime data for various different values of alpha. For each model, print the coefficients and evaluate the model on both the training and testing data using the mean squared error, root mean squared error, and R2 score metrics. The different values you should use for alpha are defined in the cell below. Ensure that the results for each model are labeled with the alpha value that generated them.\n",
        "\n",
        "*Hint:* If you use some of the control-flow elements of Python, you only need to write the code for this one time instead of for all alpha values."
      ]
    },
    {
      "cell_type": "code",
      "metadata": {
        "id": "JK9bfO8zaWHv",
        "colab_type": "code",
        "colab": {}
      },
      "source": [
        "alpha_values = [0.125, 0.25, 0.5, 1, 2, 4, 8, 16, 32]\n"
      ],
      "execution_count": 0,
      "outputs": []
    },
    {
      "cell_type": "code",
      "metadata": {
        "id": "-23oM2fM6Hce",
        "colab_type": "code",
        "colab": {}
      },
      "source": [
        "def eval_lasso_regression_model(alpha_val, X_train, X_test, y_train, y_test):\n",
        "  # create and train model\n",
        "  model = linear_model.Lasso(alpha=alpha_val, max_iter=1e5)\n",
        "  model.fit(X_train, y_train)\n",
        "  print(\"**********************************************************\")\n",
        "  print(\"When alpha is set at %.3f:\" % alpha_val)\n",
        "\n",
        "  # print coefficients\n",
        "  print(\"Coefficients:\", model.coef_)\n",
        "\n",
        "  # evaluate model on TRAINING data (MSE, RMSE, and R^2)\n",
        "  training_data_predictions = model.predict(X_train)\n",
        "  print(\"Evaluating lasso regression model on TRAINING data:\")\n",
        "  print(\"Mean squared error: %.2f\" % mean_squared_error(y_train, training_data_predictions))\n",
        "  print(\"Root mean squared error: %.2f\" % mean_squared_error(y_train, training_data_predictions, squared=False))\n",
        "  print(\"R^2 Score: %.2f\" % r2_score(y_train, training_data_predictions))\n",
        "\n",
        "  # evaluate linear model on TESTING data (MSE, RMSE, and R^2)\n",
        "  testing_data_predictions = model.predict(X_test)\n",
        "  print(\"\\nEvaluating lasso regression model on TESTING data:\")\n",
        "  print(\"Mean squared error: %.2f\" % mean_squared_error(y_test, testing_data_predictions))\n",
        "  print(\"Root mean squared error: %.2f\" % mean_squared_error(y_test, testing_data_predictions, squared=False))\n",
        "  print(\"R^2 Score: %.2f\" % r2_score(y_test, testing_data_predictions))\n",
        "  print(\"**********************************************************\")\n",
        "  print(\"\\n\\n\")\n"
      ],
      "execution_count": 0,
      "outputs": []
    },
    {
      "cell_type": "code",
      "metadata": {
        "id": "byQXug3K6smE",
        "colab_type": "code",
        "colab": {
          "base_uri": "https://localhost:8080/",
          "height": 1000
        },
        "outputId": "f3d60608-e7be-4502-9de3-78fff597132a"
      },
      "source": [
        "for a in alpha_values:\n",
        "  eval_lasso_regression_model(a, X_train, X_test, y_train, y_test)"
      ],
      "execution_count": 9,
      "outputs": [
        {
          "output_type": "stream",
          "text": [
            "**********************************************************\n",
            "When alpha is set at 0.125:\n",
            "Coefficients: [   -70.1579348    -103.36314128  19752.48643167   5915.02762245\n",
            "  23927.17041398  -4609.29124104   1090.25694888   6557.49765321\n",
            "  17519.91343844 -30436.5806326   -9191.54190826   7443.52589482\n",
            " -18191.53548299   3895.23201219 -11470.53761684 -18855.17430361\n",
            "   3542.1979114  -12794.031614    10069.86975316   3587.94307346\n",
            "  -8236.099055    12450.13341848  27737.1602341  -44465.32257423\n",
            "  -3939.63390372  -2982.87768477   4156.79490356   3724.97453276\n",
            "   3361.61043033   3828.98338121 -15646.70669611  -1136.29476221\n",
            "  -3262.53509207    887.19586724   4621.22064832  38427.84506453\n",
            "  -4633.6168088   -7351.68913987   3510.12841494  17179.1729147\n",
            "  40346.42870952  23070.92759499   7715.85634141 -41852.37607913\n",
            " -16955.65976616   1216.63230729 -24561.93346743  -2837.96453674\n",
            "  -1160.83691284   4443.12364282 -19668.50691364 -17651.22495895\n",
            "  15519.83258566 -15596.76371626   5251.04549427   1964.06096378\n",
            "  -8763.6486044    7269.76834553  -9399.86035828  -4309.67879471\n",
            "  19566.0267461   -8153.06699269  -4204.35954183 -23344.94894857\n",
            "  -6322.28188468  -5961.94005185  49394.42269104  -5569.55913684\n",
            " -16897.75582127 -57225.92617505  23817.29521468  14086.68961679\n",
            "   3429.47694664  20561.73552518  -4879.65266948  45698.62051702\n",
            "   6757.37298555  -7383.37555982  -2009.31280978     77.91601572\n",
            "  -2304.9910294  -42162.15895695  41024.36423374  -7556.71065219\n",
            " -21999.16400246   -272.68979212  -6892.60911438  30695.44115687\n",
            "   4835.50176837  -4408.35322334  -6942.39816919  13921.30524286\n",
            "  14773.56680232  12799.6575592    3784.06435154   3268.13442342\n",
            "    972.06344132   -678.55156102  -3660.9571767   -1092.31446912\n",
            "  -3325.0092011 ]\n",
            "Evaluating lasso regression model on TRAINING data:\n",
            "Mean squared error: 157633540.42\n",
            "Root mean squared error: 12555.22\n",
            "R^2 Score: 0.71\n",
            "\n",
            "Evaluating lasso regression model on TESTING data:\n",
            "Mean squared error: 208001961.32\n",
            "Root mean squared error: 14422.27\n",
            "R^2 Score: 0.59\n",
            "**********************************************************\n",
            "\n",
            "\n",
            "\n",
            "**********************************************************\n",
            "When alpha is set at 0.250:\n",
            "Coefficients: [   -70.50373359   -105.10085529  15152.81408899   5748.37872766\n",
            "  23929.9606225   -4608.08281058   1123.12591913   6566.89566381\n",
            "  16933.27424301 -30810.41691964  -8261.7446358    7204.88996857\n",
            " -13718.40495451   3756.02722357 -10123.07335542 -18840.30552258\n",
            "   3514.18791644 -12731.15645923  10020.12695235   3576.36594232\n",
            "  -8155.74024448  11434.95272781  27196.80786599 -44060.55461788\n",
            "  -3926.27267537  -2955.58733463   4163.65760256   3740.47477795\n",
            "   3328.03246252   3547.37125712 -15542.21301471  -1232.78830387\n",
            "  -3062.78387297    856.97932727   4547.22683086  38253.70141726\n",
            "  -4612.08990029  -7310.48900318   3518.17115585  17090.73975771\n",
            "  37202.76881721  22995.38966134   3706.32103307 -35086.92798554\n",
            " -16378.13620177    787.27313683 -23965.04284121  -2858.50794483\n",
            "  -1176.85879917   4388.94109172 -19628.13469283 -17391.03158569\n",
            "  15526.01505549 -15402.85723207   5281.14370489   1665.58194841\n",
            "  -8265.11299462   6994.16403049  -9342.03677696  -3034.68879268\n",
            "  16783.43939243  -6434.9077992   -4202.05541776 -23253.84288538\n",
            "  -6788.9119469   -5397.94711219  48989.86748529  -6341.32737979\n",
            " -16164.98752718 -53854.64877805  23651.22869154  14013.05921419\n",
            "   3363.94577456  20599.94440102  -4911.50208366  42301.44759531\n",
            "   6794.53397489  -7351.99948054  -1948.64694193    123.73428614\n",
            "  -2289.07184003 -40681.08124561  38600.32053701  -6448.10575121\n",
            " -22020.83416134     -0.          -6794.92543951  30202.60188271\n",
            "   4860.52552514  -4429.62814447  -6955.74291368  13856.9608516\n",
            "  14802.19535362  12474.88316775   3643.18594823   3227.59158046\n",
            "    967.01183566   -608.54595434  -3462.77651473  -1006.45415826\n",
            "  -3357.15730723]\n",
            "Evaluating lasso regression model on TRAINING data:\n",
            "Mean squared error: 157653257.47\n",
            "Root mean squared error: 12556.00\n",
            "R^2 Score: 0.71\n",
            "\n",
            "Evaluating lasso regression model on TESTING data:\n",
            "Mean squared error: 207969230.86\n",
            "Root mean squared error: 14421.14\n",
            "R^2 Score: 0.59\n",
            "**********************************************************\n",
            "\n",
            "\n",
            "\n",
            "**********************************************************\n",
            "When alpha is set at 0.500:\n",
            "Coefficients: [   -71.09507779   -108.41967674   5774.24892443   5423.67604121\n",
            "  23901.37140602  -4615.83677345   1151.5183878    6524.40869193\n",
            "  15836.14177648 -31578.42872026  -6298.70597585   6841.50334768\n",
            "  -4565.69696953   3466.83092148  -7486.87392313 -18652.64756824\n",
            "   3456.63621212 -12607.32467248   9964.29281231   3564.87024061\n",
            "  -8021.53433853   9433.24801379  26262.15644387 -43343.23192482\n",
            "  -3893.32557955  -2908.81621854   4175.55599181   3764.1042549\n",
            "   3268.81224367   2884.75093753 -15234.26926501  -1408.83416852\n",
            "  -2697.12488291    871.25751156   4363.36464037  37742.19934997\n",
            "  -4544.19528845  -7203.87672959   3468.61873485  16862.65340833\n",
            "  34060.44281248  22589.42879833      0.         -28564.29909874\n",
            " -14936.19799341      0.         -22917.25842922  -2866.94743135\n",
            "  -1209.35630076   4301.75198219 -19525.82580219 -16837.14177448\n",
            "  15594.2895099  -14990.14518944   5343.25561276   1036.36825556\n",
            "  -7257.3783762    6459.23366302  -9216.5357186    -543.1096723\n",
            "  11272.11639827  -3009.51017262  -4236.80155957 -23030.32127018\n",
            "  -7702.19761275  -4351.34625518  47981.29277982  -7836.88599333\n",
            " -14680.82390267 -47131.56693299  23252.69533572  13899.706942\n",
            "   3250.61704782  20690.17668299  -4950.85120062  35489.18765239\n",
            "   6860.97093093  -7301.89091891  -1819.80116261    153.48397685\n",
            "  -2256.33644594 -37659.3659876   33734.58373543  -4276.26439936\n",
            " -21931.02164676     -0.          -6446.45464009  29474.03408879\n",
            "   4901.5526093   -4466.88271759  -6959.07129744  13749.06829891\n",
            "  14833.8080723   11841.54091477   3399.04348977   3191.96213588\n",
            "    968.82469132   -469.27040069  -3079.05099813   -845.89519578\n",
            "  -3391.64760616]\n",
            "Evaluating lasso regression model on TRAINING data:\n",
            "Mean squared error: 157720233.82\n",
            "Root mean squared error: 12558.67\n",
            "R^2 Score: 0.71\n",
            "\n",
            "Evaluating lasso regression model on TESTING data:\n",
            "Mean squared error: 207913497.55\n",
            "Root mean squared error: 14419.21\n",
            "R^2 Score: 0.59\n",
            "**********************************************************\n",
            "\n",
            "\n",
            "\n",
            "**********************************************************\n",
            "When alpha is set at 1.000:\n",
            "Coefficients: [   -71.52660072   -112.73908977    465.86146826   4778.71404999\n",
            "  23825.5989249   -4562.1029902    1105.79774386   6280.65951733\n",
            "  14023.57255835 -32697.3191607   -3083.88950963   6361.37420854\n",
            "     -0.           3317.77282971  -2233.21487009 -18200.49925088\n",
            "   3358.35569091 -12294.55950724   9833.7310123    3522.40687429\n",
            "  -7918.83498213   5762.33757102  24301.36861565 -42039.41459764\n",
            "  -3803.57982803  -2866.32154823   4182.53061272   3763.10985902\n",
            "   3225.5233551    1587.64290688 -14550.61925668  -1673.92143033\n",
            "  -2138.47765401   1028.59303572   4001.10593882  36500.97488889\n",
            "  -4407.26991014  -6916.97831229   3294.26405791  16103.48105881\n",
            "  32465.81291985  21652.44867205   -358.70442364 -26472.71244297\n",
            " -12076.31325877      0.         -22311.37556904  -2928.03479659\n",
            "  -1273.18943273   4053.0471918  -19155.2964584  -15543.39972914\n",
            "  15779.77003987 -14178.67900206   5179.58266828    481.32256549\n",
            "  -6107.39942877   5837.96155701  -7690.11088326     -0.\n",
            "   6780.51864226     -0.          -4219.95862    -22333.07910641\n",
            "  -9094.20767211  -2548.00986326  45612.12537855 -10550.66022928\n",
            " -11978.71125331 -34777.6243165   22552.24331113  13668.93927764\n",
            "   3078.24328285  20915.47476239  -4939.87363883  22925.87490465\n",
            "   6895.81316333  -7158.85820998  -1603.52360788    135.01998773\n",
            "  -2190.1352018  -32219.42835157  24550.06488011     -0.\n",
            " -21807.23982261      0.          -5718.06856717  28031.83286508\n",
            "   4978.16491439  -4486.90671272  -6932.64953968  13476.61113396\n",
            "  14950.94123075  11000.22213275   3045.91018057   3081.64115831\n",
            "    997.19792835   -241.31658035  -2606.01341423   -618.43987119\n",
            "  -3423.22003949]\n",
            "Evaluating lasso regression model on TRAINING data:\n",
            "Mean squared error: 157878487.47\n",
            "Root mean squared error: 12564.97\n",
            "R^2 Score: 0.71\n",
            "\n",
            "Evaluating lasso regression model on TESTING data:\n",
            "Mean squared error: 207541483.63\n",
            "Root mean squared error: 14406.30\n",
            "R^2 Score: 0.60\n",
            "**********************************************************\n",
            "\n",
            "\n",
            "\n",
            "**********************************************************\n",
            "When alpha is set at 2.000:\n",
            "Coefficients: [   -71.93208291   -118.02952256      0.           4291.81088677\n",
            "  23693.18468272  -4176.27056927   1148.76154441   5899.75066524\n",
            "  11700.64870506 -33107.93116556     -0.           5439.61595741\n",
            "     -0.           3315.80314382      0.         -17947.31133322\n",
            "   3227.61268613 -11426.2189681    8895.78069618   3438.27896277\n",
            "  -7666.24882199   2970.08118659  20482.62106219 -37033.20420907\n",
            "  -3553.79327336  -2779.52859359   4156.85633502   3708.12932226\n",
            "   3179.34549009      0.         -14173.12689001  -2137.60574108\n",
            "   -952.80323904   1085.26512845   3420.14723565  34637.53349247\n",
            "  -4058.05219823  -6366.21626139   2904.59854064  14512.45283156\n",
            "  22202.10251788  20772.11285529 -11551.03413014  -5816.87404143\n",
            "  -8264.93845531     -0.         -21629.74805047  -3193.83070573\n",
            "  -1247.09693145   3541.83690662 -18615.58835848 -13817.86378319\n",
            "  15951.83220814 -12970.16151995   4761.24687768      0.\n",
            "  -4976.98170816   5256.85219927  -5516.4777532       0.\n",
            "   4945.06316146      0.          -3800.25586166 -20887.43546786\n",
            " -11214.36394876     -0.          43787.69834285 -15532.31761717\n",
            "  -7976.0859763  -13899.7365971   21700.10091584  12808.89556848\n",
            "   2654.3165603   20713.84564787  -5162.13026382   2357.47080266\n",
            "   6883.30478681  -6822.54931809  -1251.38161617    377.96381353\n",
            "  -2058.0083015  -26127.32809479  18961.50812051      0.\n",
            " -21521.61375944      0.          -3895.92169817  25724.28190613\n",
            "   4891.29352291  -4390.55553452  -6996.46690409  12736.32533585\n",
            "  15344.9856975   10169.39425013   2383.95925343   2594.50274886\n",
            "   1133.74056236     -0.          -2180.32368095   -293.72501265\n",
            "  -3464.13758136]\n",
            "Evaluating lasso regression model on TRAINING data:\n",
            "Mean squared error: 158271086.20\n",
            "Root mean squared error: 12580.58\n",
            "R^2 Score: 0.71\n",
            "\n",
            "Evaluating lasso regression model on TESTING data:\n",
            "Mean squared error: 206968508.93\n",
            "Root mean squared error: 14386.40\n",
            "R^2 Score: 0.60\n",
            "**********************************************************\n",
            "\n",
            "\n",
            "\n",
            "**********************************************************\n",
            "When alpha is set at 4.000:\n",
            "Coefficients: [   -72.38692513   -125.42145423     -0.           3495.18937109\n",
            "  22835.90903768  -3947.27086545    932.7076192    4530.41115764\n",
            "  10410.0417983  -28778.07139701      0.           5369.28544698\n",
            "     -0.           3309.6749207       0.         -16609.75146783\n",
            "   3044.19765702  -9992.13816906   6982.76803116   3355.23764797\n",
            "  -7222.71273323    759.18895799  13876.4193161  -27622.8660786\n",
            "  -3023.57724898  -2631.43983407   4212.46376263   3628.02415832\n",
            "   3168.04215049     -0.         -13946.80469886  -2053.70947933\n",
            "     -0.           1084.40772683   2139.25455209  30332.81370546\n",
            "  -3153.51768283  -5190.93153331   1755.0215484   11558.05981374\n",
            "  18136.99315006  18117.94754406 -12795.16736583     -0.\n",
            "  -1033.33609488     -0.         -20945.69411402  -3737.1117661\n",
            "  -1110.0722076    2614.95839928 -17437.33186644 -12760.68754571\n",
            "  16501.87223585 -11943.87200108   3603.27378832      0.\n",
            "  -2978.56738881   3782.29275646  -1808.29552432      0.\n",
            "      0.           1704.89758187  -3364.8398768  -17921.17737982\n",
            " -11476.26147063     -0.          30808.45243394 -12020.54967499\n",
            "  -4109.48241227  -8679.97980615  20733.51577554  11019.27045582\n",
            "   2054.56853186  19168.09873898  -5534.0154768       0.\n",
            "   6793.0924069   -6371.34545735   -850.63374637    551.77896035\n",
            "  -1827.31313303 -12504.57536738   4575.13923563   1717.57484192\n",
            " -20152.11830272      0.             -0.          20610.01014684\n",
            "   4656.02749704  -4038.60149566  -6963.46684024  10955.85506104\n",
            "  16001.01450764   8711.54381744   1757.85785161   1982.72788111\n",
            "   1386.41572432      0.          -1603.54403274     -0.\n",
            "  -3204.35553239]\n",
            "Evaluating lasso regression model on TRAINING data:\n",
            "Mean squared error: 159211060.85\n",
            "Root mean squared error: 12617.89\n",
            "R^2 Score: 0.71\n",
            "\n",
            "Evaluating lasso regression model on TESTING data:\n",
            "Mean squared error: 205340874.51\n",
            "Root mean squared error: 14329.72\n",
            "R^2 Score: 0.60\n",
            "**********************************************************\n",
            "\n",
            "\n",
            "\n",
            "**********************************************************\n",
            "When alpha is set at 8.000:\n",
            "Coefficients: [   -74.83896088   -132.45552455     -0.           2139.31668046\n",
            "  21613.21440377  -3452.57251565    585.49222247   2636.64403786\n",
            "   7061.60950875 -21045.73589474      0.           3754.31215229\n",
            "     -0.           3269.61584688      0.         -14137.16667508\n",
            "   2460.45028852  -7426.43917368   4380.09139533   3420.85692248\n",
            "  -6675.87878764      0.              0.         -11213.49550129\n",
            "  -2107.0611685   -2518.84020226   4170.54343392   3419.02989569\n",
            "   3067.24723478     -0.         -12247.25374093   -788.19880947\n",
            "     -0.              0.              7.87989642  23675.05102982\n",
            "  -1857.36686697  -2917.65775278      0.           6370.48804417\n",
            "  14939.99938195  13582.84333442  -8067.70481936     -0.\n",
            "     -0.             -0.         -19044.1382568   -4275.93223854\n",
            "   -777.86794736    313.74365888 -14626.54832462 -10253.72605707\n",
            "  17390.71930005  -9851.42833402   2407.65098371     -0.\n",
            "   -726.94523226   1913.77916139     -0.             -0.\n",
            "      0.            151.81654508  -2273.84275282 -12981.83238742\n",
            "  -7444.44164236     -0.          13259.82972263  -3632.74997998\n",
            "     -0.          -4092.33972232  18933.83491363   7740.04424927\n",
            "    989.94634168  16561.13713952  -6289.84367681      0.\n",
            "   6550.01039382  -5593.52603219   -744.44089879    794.88057012\n",
            "  -1517.99993039  -3804.47661646      0.              0.\n",
            " -18215.99717706      0.              0.          17723.41345851\n",
            "   4493.85067012  -3225.83607826  -6661.03343574   7830.10649629\n",
            "  16505.99851326   6710.170474      665.75154159   1306.29167355\n",
            "   1815.84102786      0.           -689.39192338      0.\n",
            "  -2396.39410072]\n",
            "Evaluating lasso regression model on TRAINING data:\n",
            "Mean squared error: 161487982.57\n",
            "Root mean squared error: 12707.79\n",
            "R^2 Score: 0.71\n",
            "\n",
            "Evaluating lasso regression model on TESTING data:\n",
            "Mean squared error: 203187434.71\n",
            "Root mean squared error: 14254.38\n",
            "R^2 Score: 0.60\n",
            "**********************************************************\n",
            "\n",
            "\n",
            "\n",
            "**********************************************************\n",
            "When alpha is set at 16.000:\n",
            "Coefficients: [   -82.25703859   -142.47910465     -0.            654.59107857\n",
            "  19134.26461651  -5199.10174856    200.69339638      0.\n",
            "      0.          -7058.81946746      0.            954.66251874\n",
            "     -0.           3206.48843523      0.          -8555.14913651\n",
            "   1595.23263479  -3196.07953565   3036.86321321   2107.8991018\n",
            "  -5613.75063628      0.             -0.          -6730.46466697\n",
            "  -1550.21679074  -2227.62086482   3619.66879313   3251.0735649\n",
            "   2380.53996457     -0.          -8044.65910213     -0.\n",
            "     -0.             -0.             -0.          14076.62641297\n",
            "  -1114.24111035   -456.57758292     -0.              0.\n",
            "   9258.98255269   5325.33869266   -613.33478127     -0.\n",
            "      0.             -0.         -19367.49230993  -4625.04307038\n",
            "     -0.             -0.         -12339.83842795  -1527.38500046\n",
            "  17802.93880117  -6646.35328484   1682.68856756     -0.\n",
            "     -0.            870.0996155      -0.              0.\n",
            "      0.              0.           -108.61720812  -5721.31344457\n",
            "     -0.             -0.              0.             -0.\n",
            "      0.             -0.          15588.82432048   2443.07083259\n",
            "      0.          11930.92853673  -7233.21311223      0.\n",
            "   6229.59228811  -4277.05559876     -0.            537.42319729\n",
            "   -912.47774872   -592.53903155     -0.             -0.\n",
            " -14058.40572886      0.              0.          12186.98208398\n",
            "   3524.04217965  -1211.26364314  -5810.33071592   2773.24987687\n",
            "  15691.65441765   4391.45600105      0.            355.02954158\n",
            "   2162.87283997      0.             -0.              0.\n",
            "  -1332.69383129]\n",
            "Evaluating lasso regression model on TRAINING data:\n",
            "Mean squared error: 165952265.37\n",
            "Root mean squared error: 12882.25\n",
            "R^2 Score: 0.70\n",
            "\n",
            "Evaluating lasso regression model on TESTING data:\n",
            "Mean squared error: 202072087.90\n",
            "Root mean squared error: 14215.21\n",
            "R^2 Score: 0.61\n",
            "**********************************************************\n",
            "\n",
            "\n",
            "\n",
            "**********************************************************\n",
            "When alpha is set at 32.000:\n",
            "Coefficients: [   -99.5429776    -148.4826522      -0.              0.\n",
            "  17898.58814803  -5223.16153199      0.              0.\n",
            "     -0.          -1979.5331553      -0.              0.\n",
            "     -0.           3257.42721779     -0.          -2666.54448522\n",
            "    488.77763335  -2224.00061055    599.66670066   2230.77663286\n",
            "  -2986.23333992     -0.             -0.             -0.\n",
            "   -507.38696011  -1446.34611883   2551.8164129    2811.64346318\n",
            "    924.67837552     -0.          -3088.57367141     -0.\n",
            "      0.             -0.             -0.           3544.32109736\n",
            "   -224.35824238   -955.21739634     -0.             -0.\n",
            "   9757.83382164      0.             -0.              0.\n",
            "      0.             -0.         -19114.62167723  -3537.29585643\n",
            "     -0.             -0.          -8169.3678638      -0.\n",
            "  18762.0963863      -0.           1116.21176278      0.\n",
            "      0.             80.71712782      0.              0.\n",
            "      0.              0.             -0.             -0.\n",
            "      0.              0.              0.             -0.\n",
            "      0.             -0.          12105.95224547   2008.57042166\n",
            "     -0.          10476.25531706  -7010.67035511      0.\n",
            "   5914.1209192   -2668.48570313     -0.              0.\n",
            "   -410.30726624     -0.             -0.             -0.\n",
            "  -2510.52921751      0.              0.            235.88707954\n",
            "   1971.61955176      0.          -3970.45665568      0.\n",
            "  13345.44234617      0.              0.              0.\n",
            "   2085.56366467      0.             -0.              0.\n",
            "     -0.        ]\n",
            "Evaluating lasso regression model on TRAINING data:\n",
            "Mean squared error: 171437443.54\n",
            "Root mean squared error: 13093.41\n",
            "R^2 Score: 0.69\n",
            "\n",
            "Evaluating lasso regression model on TESTING data:\n",
            "Mean squared error: 202937046.98\n",
            "Root mean squared error: 14245.60\n",
            "R^2 Score: 0.60\n",
            "**********************************************************\n",
            "\n",
            "\n",
            "\n"
          ],
          "name": "stdout"
        }
      ]
    },
    {
      "cell_type": "markdown",
      "metadata": {
        "id": "djZpJBVSrERi",
        "colab_type": "text"
      },
      "source": [
        "**Question:** What is happening to the coefficients as the value of alpha changes?"
      ]
    },
    {
      "cell_type": "markdown",
      "metadata": {
        "id": "AEXauz_urMBK",
        "colab_type": "text"
      },
      "source": [
        "**Answer:**\n",
        "\n",
        "When alpha = 0, you get the same results (coefficients, MSE, RMSE, R^2) as linear regression. As alpha increases, the number of coefficients set to 0 increases as well. "
      ]
    },
    {
      "cell_type": "markdown",
      "metadata": {
        "id": "fwsgRJhpryDZ",
        "colab_type": "text"
      },
      "source": [
        "**Question:** How do the changes in coefficients affect to the model which is created?"
      ]
    },
    {
      "cell_type": "markdown",
      "metadata": {
        "id": "BXezGpvtr74p",
        "colab_type": "text"
      },
      "source": [
        "**Answer:**\n",
        "The changes in coefficients produced by Lasso regression help us prevent overfitting of our model. The Lasso regression technique allows us to select for more important features in the model while filtering out the less important features (by setting their coefficients to 0). However, it is important to select an appropriate alpha because if alpha is too high, then our model may actually underfit the data."
      ]
    },
    {
      "cell_type": "markdown",
      "metadata": {
        "id": "Bqxj5ZZurPC3",
        "colab_type": "text"
      },
      "source": [
        "**Question:** Based on the results above, which value of alpha do you believe is best for this dataset? Explain your answer."
      ]
    },
    {
      "cell_type": "markdown",
      "metadata": {
        "id": "pPT3Sq6VrX2S",
        "colab_type": "text"
      },
      "source": [
        "**Answer:** Based on the results above, the best value of alpha for the dataset is 32. However, I also looked at some other documentation that mentioned the following visualization tool to help find alpha. If I understand this correctly, it is showing that optimal alpha = approx. 128."
      ]
    },
    {
      "cell_type": "code",
      "metadata": {
        "id": "0-WrI2XHF4FW",
        "colab_type": "code",
        "colab": {
          "base_uri": "https://localhost:8080/",
          "height": 480
        },
        "outputId": "8bcfdfc4-7d6d-48c1-9dc9-80c23fe9ae6d"
      },
      "source": [
        "from sklearn.linear_model import LassoCV\n",
        "from yellowbrick.regressor import AlphaSelection\n",
        "\n",
        "# Instantiate the linear model and visualizer\n",
        "alpha_values_2 = [0.125, 0.25, 0.5, 1, 2, 4, 8, 16, 32, 64, 128, 256]\n",
        "model = LassoCV(alphas=alpha_values_2, max_iter=1e4)\n",
        "visualizer = AlphaSelection(model)\n",
        "visualizer.fit(X_test, y_test)"
      ],
      "execution_count": 10,
      "outputs": [
        {
          "output_type": "stream",
          "text": [
            "/usr/local/lib/python3.6/dist-packages/sklearn/utils/deprecation.py:144: FutureWarning: The sklearn.metrics.classification module is  deprecated in version 0.22 and will be removed in version 0.24. The corresponding classes / functions should instead be imported from sklearn.metrics. Anything that cannot be imported from sklearn.metrics is now part of the private API.\n",
            "  warnings.warn(message, FutureWarning)\n",
            "/usr/local/lib/python3.6/dist-packages/sklearn/base.py:197: FutureWarning: From version 0.24, get_params will raise an AttributeError if a parameter cannot be retrieved as an instance attribute. Previously it would return None.\n",
            "  FutureWarning)\n"
          ],
          "name": "stderr"
        },
        {
          "output_type": "execute_result",
          "data": {
            "text/plain": [
              "AlphaSelection(ax=<matplotlib.axes._subplots.AxesSubplot object at 0x7f433e689278>,\n",
              "               model=None)"
            ]
          },
          "metadata": {
            "tags": []
          },
          "execution_count": 10
        },
        {
          "output_type": "display_data",
          "data": {
            "image/png": "[encoded data removed]",
            "text/plain": [
              "<Figure size 576x396 with 1 Axes>"
            ]
          },
          "metadata": {
            "tags": []
          }
        }
      ]
    },
    {
      "cell_type": "markdown",
      "metadata": {
        "id": "EjyLgt47rZg7",
        "colab_type": "text"
      },
      "source": [
        "**Question:** For the violent crime dataset, do you believe that simple linear regression or lasso regression works better? Explain your answer."
      ]
    },
    {
      "cell_type": "markdown",
      "metadata": {
        "id": "JsxXOfWSrqT1",
        "colab_type": "text"
      },
      "source": [
        "**Answer:** Lasso regression works better because it helped us reduce model error slightly as measured by MSE, RMSE, and R^2. "
      ]
    },
    {
      "cell_type": "markdown",
      "metadata": {
        "id": "Fgwx4JUEr-Dv",
        "colab_type": "text"
      },
      "source": [
        "**Question:** Generally for any dataset, why would we use lasso regression as opposed to simple linear regression?"
      ]
    },
    {
      "cell_type": "markdown",
      "metadata": {
        "id": "mOw66RaasGYe",
        "colab_type": "text"
      },
      "source": [
        "**Answer:** Lasso regression helps us reduce overfitting and identifies the most important features. "
      ]
    },
    {
      "cell_type": "markdown",
      "metadata": {
        "id": "RXYN7Zx_yiMG",
        "colab_type": "text"
      },
      "source": [
        "# Support Vector Machine\n",
        "\n",
        "In this section, we will implement a support vector machine to perform classification."
      ]
    },
    {
      "cell_type": "markdown",
      "metadata": {
        "id": "QeE3r2-Gyqvx",
        "colab_type": "text"
      },
      "source": [
        "## Dataset\n",
        "\n",
        "For this assignment, we will be using data that is generated using scikit-learn called the moon data. It is a relatively common dataset that is often used to test classification and clustering algorithms. Run the cell below to generate the data."
      ]
    },
    {
      "cell_type": "code",
      "metadata": {
        "id": "TdF22dgagm1H",
        "colab_type": "code",
        "colab": {
          "base_uri": "https://localhost:8080/",
          "height": 204
        },
        "outputId": "31e32fbc-1998-400b-b2ac-daf71f1aa923"
      },
      "source": [
        "moons = make_moons(500, noise=0.1)\n",
        "data = pd.DataFrame(moons[0], columns=['X_coordinate', 'Y_coordinate'])\n",
        "data['label'] = moons[1]\n",
        "data.head()"
      ],
      "execution_count": 11,
      "outputs": [
        {
          "output_type": "execute_result",
          "data": {
            "text/html": [
              "<div>\n",
              "<style scoped>\n",
              "    .dataframe tbody tr th:only-of-type {\n",
              "        vertical-align: middle;\n",
              "    }\n",
              "\n",
              "    .dataframe tbody tr th {\n",
              "        vertical-align: top;\n",
              "    }\n",
              "\n",
              "    .dataframe thead th {\n",
              "        text-align: right;\n",
              "    }\n",
              "</style>\n",
              "<table border=\"1\" class=\"dataframe\">\n",
              "  <thead>\n",
              "    <tr style=\"text-align: right;\">\n",
              "      <th></th>\n",
              "      <th>X_coordinate</th>\n",
              "      <th>Y_coordinate</th>\n",
              "      <th>label</th>\n",
              "    </tr>\n",
              "  </thead>\n",
              "  <tbody>\n",
              "    <tr>\n",
              "      <th>0</th>\n",
              "      <td>1.205479</td>\n",
              "      <td>-0.442756</td>\n",
              "      <td>1</td>\n",
              "    </tr>\n",
              "    <tr>\n",
              "      <th>1</th>\n",
              "      <td>0.749424</td>\n",
              "      <td>-0.532305</td>\n",
              "      <td>1</td>\n",
              "    </tr>\n",
              "    <tr>\n",
              "      <th>2</th>\n",
              "      <td>1.989919</td>\n",
              "      <td>0.303683</td>\n",
              "      <td>1</td>\n",
              "    </tr>\n",
              "    <tr>\n",
              "      <th>3</th>\n",
              "      <td>-0.165585</td>\n",
              "      <td>0.927264</td>\n",
              "      <td>0</td>\n",
              "    </tr>\n",
              "    <tr>\n",
              "      <th>4</th>\n",
              "      <td>0.287603</td>\n",
              "      <td>-0.370177</td>\n",
              "      <td>1</td>\n",
              "    </tr>\n",
              "  </tbody>\n",
              "</table>\n",
              "</div>"
            ],
            "text/plain": [
              "   X_coordinate  Y_coordinate  label\n",
              "0      1.205479     -0.442756      1\n",
              "1      0.749424     -0.532305      1\n",
              "2      1.989919      0.303683      1\n",
              "3     -0.165585      0.927264      0\n",
              "4      0.287603     -0.370177      1"
            ]
          },
          "metadata": {
            "tags": []
          },
          "execution_count": 11
        }
      ]
    },
    {
      "cell_type": "markdown",
      "metadata": {
        "id": "U4uo-3RQ0Yc3",
        "colab_type": "text"
      },
      "source": [
        "Once we have generated the data, we can plot it using colors to represent the labels and get a good picture of the data and why it is called \"moons\"."
      ]
    },
    {
      "cell_type": "code",
      "metadata": {
        "id": "3xxcDH2ozvvr",
        "colab_type": "code",
        "colab": {
          "base_uri": "https://localhost:8080/",
          "height": 362
        },
        "outputId": "b8547726-4f2e-417a-cea2-b848c6684fff"
      },
      "source": [
        "label_0 = data[data['label']==0]\n",
        "label_1 = data[data['label']==1]\n",
        "plt.scatter(label_0['X_coordinate'], label_0['Y_coordinate'], color='b', s=4)\n",
        "plt.scatter(label_1['X_coordinate'], label_1['Y_coordinate'], color='r', s=4)\n",
        "plt.title(\"Generated Moon Data\")\n",
        "plt.show()"
      ],
      "execution_count": 12,
      "outputs": [
        {
          "output_type": "display_data",
          "data": {
            "image/png": "[encoded data removed]",
            "text/plain": [
              "<Figure size 576x396 with 1 Axes>"
            ]
          },
          "metadata": {
            "tags": []
          }
        }
      ]
    },
    {
      "cell_type": "markdown",
      "metadata": {
        "id": "EhhmYY9t2Zkt",
        "colab_type": "text"
      },
      "source": [
        "In the cell below, extract the columns which represent the features to a variable called *X* and the column which represents the target value (label) to a variable called *y*."
      ]
    },
    {
      "cell_type": "code",
      "metadata": {
        "colab_type": "code",
        "id": "UemV1ylx15gT",
        "colab": {}
      },
      "source": [
        "X = data[['X_coordinate','Y_coordinate']]\n",
        "y = data['label']"
      ],
      "execution_count": 0,
      "outputs": []
    },
    {
      "cell_type": "markdown",
      "metadata": {
        "id": "Vqw_-v0f25uD",
        "colab_type": "text"
      },
      "source": [
        "Prepare a training and testing split of the data above, reserving 20% of the full data for testing."
      ]
    },
    {
      "cell_type": "code",
      "metadata": {
        "id": "Gl1Lizwh2oZL",
        "colab_type": "code",
        "colab": {}
      },
      "source": [
        "X_train, X_test, y_train, y_test = train_test_split(X, y, test_size=0.2, random_state=1)"
      ],
      "execution_count": 0,
      "outputs": []
    },
    {
      "cell_type": "markdown",
      "metadata": {
        "id": "w1I0q4bC3FKz",
        "colab_type": "text"
      },
      "source": [
        "## Linear Support Vector Machine\n",
        "\n",
        "In the cell below, create a support vector classifier which uses the linear kernel and train it on the training data from above. Name the variable for your classifier *linear_clf*."
      ]
    },
    {
      "cell_type": "code",
      "metadata": {
        "id": "FeoVl8S33Ck9",
        "colab_type": "code",
        "colab": {
          "base_uri": "https://localhost:8080/",
          "height": 85
        },
        "outputId": "0eb0b86a-f661-47e4-9d61-728fe0a2d238"
      },
      "source": [
        "linear_clf = SVC(kernel='linear')\n",
        "linear_clf.fit(X_train, y_train)"
      ],
      "execution_count": 15,
      "outputs": [
        {
          "output_type": "execute_result",
          "data": {
            "text/plain": [
              "SVC(C=1.0, break_ties=False, cache_size=200, class_weight=None, coef0=0.0,\n",
              "    decision_function_shape='ovr', degree=3, gamma='scale', kernel='linear',\n",
              "    max_iter=-1, probability=False, random_state=None, shrinking=True,\n",
              "    tol=0.001, verbose=False)"
            ]
          },
          "metadata": {
            "tags": []
          },
          "execution_count": 15
        }
      ]
    },
    {
      "cell_type": "markdown",
      "metadata": {
        "id": "lq_qIzFy360L",
        "colab_type": "text"
      },
      "source": [
        "Evaluate the linear SVM using the accuracy, precision, recall, and F1 metrics for both the training and testing data and print the results.\n",
        "\n"
      ]
    },
    {
      "cell_type": "code",
      "metadata": {
        "id": "RCadNoqt3im1",
        "colab_type": "code",
        "colab": {
          "base_uri": "https://localhost:8080/",
          "height": 204
        },
        "outputId": "60f68587-c684-4751-fe2d-ddc7fff36d3c"
      },
      "source": [
        "from sklearn.metrics import accuracy_score, precision_score, recall_score, f1_score\n",
        "\n",
        "training_predictions = linear_clf.predict(X_train)\n",
        "print(\"Evaluating Linear SVM on TRAINING data:\")\n",
        "print(\"Accuracy Score:\\t %.2f\" % accuracy_score(y_train, training_predictions))\n",
        "print(\"Precision Score: %.2f\" % precision_score(y_train, training_predictions))\n",
        "print(\"Recall Score:\\t %.2f\" % recall_score(y_train, training_predictions))\n",
        "print(\"F1 Score:\\t %.2f\" % f1_score(y_train, training_predictions))\n",
        "\n",
        "test_predictions = linear_clf.predict(X_test)\n",
        "print(\"\\nEvaluating Linear SVM on TESTING data:\")\n",
        "print(\"Accuracy Score:\\t %.2f\" % accuracy_score(y_test, test_predictions))\n",
        "print(\"Precision Score: %.2f\" % precision_score(y_test, test_predictions))\n",
        "print(\"Recall Score:\\t %.2f\" % recall_score(y_test, test_predictions))\n",
        "print(\"F1 Score:\\t %.2f\" % f1_score(y_test, test_predictions))\n",
        "\n"
      ],
      "execution_count": 16,
      "outputs": [
        {
          "output_type": "stream",
          "text": [
            "Evaluating Linear SVM on TRAINING data:\n",
            "Accuracy Score:\t 0.89\n",
            "Precision Score: 0.89\n",
            "Recall Score:\t 0.87\n",
            "F1 Score:\t 0.88\n",
            "\n",
            "Evaluating Linear SVM on TESTING data:\n",
            "Accuracy Score:\t 0.88\n",
            "Precision Score: 0.89\n",
            "Recall Score:\t 0.89\n",
            "F1 Score:\t 0.89\n"
          ],
          "name": "stdout"
        }
      ]
    },
    {
      "cell_type": "markdown",
      "metadata": {
        "id": "AcZU-Fik41RA",
        "colab_type": "text"
      },
      "source": [
        "**Question:** Do you think that a linear SVM classifier works well for the moon data? Explain your reasoning."
      ]
    },
    {
      "cell_type": "markdown",
      "metadata": {
        "id": "6OVSpCny48_m",
        "colab_type": "text"
      },
      "source": [
        "**Answer:**\n",
        "The linear SVM classifier works pretty well (but it could be improved upon).\n",
        "\n",
        "For our testing data:\n",
        "- 83% of our predictions were accurate\n",
        "- we have a relatively low false positive rate with a precision score of 0.78\n",
        "- we have a relatively high recall rate of 0.89"
      ]
    },
    {
      "cell_type": "markdown",
      "metadata": {
        "id": "BjUpHFuW6cCA",
        "colab_type": "text"
      },
      "source": [
        "Run the cell below to plot the decision boundary that the linear SVM learned on the moon data. \n",
        "\n",
        "**Important:** Your variables must have been named as specified in order for this cell to work.\n",
        "\n",
        "*Note:* It is NOT important that you understand how this code works. You should focus on interpretting the plot, not the code which generated it."
      ]
    },
    {
      "cell_type": "code",
      "metadata": {
        "id": "lYP5rzed4gKA",
        "colab_type": "code",
        "colab": {
          "base_uri": "https://localhost:8080/",
          "height": 362
        },
        "outputId": "f22eae62-e58f-43dd-9fb3-a83b3523eaf2"
      },
      "source": [
        "def make_meshgrid(x, y, h=.02):\n",
        "    x_min, x_max = x.min() - 0.5, x.max() + 0.5\n",
        "    y_min, y_max = y.min() - 0.5, y.max() + 0.5\n",
        "    xx, yy = np.meshgrid(np.arange(x_min, x_max, h), np.arange(y_min, y_max, h))\n",
        "    return xx, yy\n",
        "\n",
        "def plot_contours(ax, clf, xx, yy, **params):\n",
        "    Z = clf.predict(np.c_[xx.ravel(), yy.ravel()])\n",
        "    Z = Z.reshape(xx.shape)\n",
        "    out = ax.contourf(xx, yy, Z, **params)\n",
        "    return out\n",
        "\n",
        "fig, ax = plt.subplots()\n",
        "title = ('Decision Boundary of linear SVM')\n",
        "\n",
        "X0, X1 = data['X_coordinate'], data['Y_coordinate']\n",
        "xx, yy = make_meshgrid(X0, X1)\n",
        "\n",
        "plot_contours(ax, linear_clf, xx, yy, cmap=plt.cm.coolwarm, alpha=0.8)\n",
        "ax.scatter(X0, X1, c=y, cmap=plt.cm.coolwarm, s=6, edgecolors='k')\n",
        "ax.set_title(title)\n",
        "plt.show()"
      ],
      "execution_count": 17,
      "outputs": [
        {
          "output_type": "display_data",
          "data": {
            "image/png": "[encoded data removed]",
            "text/plain": [
              "<Figure size 576x396 with 1 Axes>"
            ]
          },
          "metadata": {
            "tags": []
          }
        }
      ]
    },
    {
      "cell_type": "markdown",
      "metadata": {
        "id": "zeKFpS_s7Qgq",
        "colab_type": "text"
      },
      "source": [
        "**Question:** What is going on in the plot above? Why did the SVM create a decision boundary like this?"
      ]
    },
    {
      "cell_type": "markdown",
      "metadata": {
        "id": "6m36s9Wx7eIf",
        "colab_type": "text"
      },
      "source": [
        "**Answer:**\n",
        "The plot shows the decision boundary of our linear SVM. All points in the red area will be classified as one group, while all points in the blue area will be classified as another group. The SVM created a linear decision boundary because we created a linear SVM model; this is the linear decision boundary that maximizes the margin (distance)."
      ]
    },
    {
      "cell_type": "markdown",
      "metadata": {
        "id": "y7bKkK-v7f6D",
        "colab_type": "text"
      },
      "source": [
        "**Question:** Why was this SVM not able to draw a decision boundary that accurately reflects the moons?"
      ]
    },
    {
      "cell_type": "markdown",
      "metadata": {
        "id": "YmJpsYJ97s8S",
        "colab_type": "text"
      },
      "source": [
        "**Answer:** Since we created a linear SVM, it did the best it could with a single line in 2D space (n-D space uses a hyperplane)."
      ]
    },
    {
      "cell_type": "markdown",
      "metadata": {
        "id": "Hl6b0YiM7zYv",
        "colab_type": "text"
      },
      "source": [
        "## Kernel Support Vector Machine\n",
        "\n",
        "Now we will focus our attention on designing a classifier which can more accurately classify the moon data by applying the kernel trick."
      ]
    },
    {
      "cell_type": "markdown",
      "metadata": {
        "id": "JFuTmFn97-V4",
        "colab_type": "text"
      },
      "source": [
        "**Question:** In your own words, explain what is the kernel trick?"
      ]
    },
    {
      "cell_type": "markdown",
      "metadata": {
        "id": "PPpB7bLn8EMR",
        "colab_type": "text"
      },
      "source": [
        "**Answer:** The kernel trick is a trick for calculating the dot product between the data points in a higher-dimensional space. In this manner, it allows us to create what looks like a non-linear classifier by creating a linear classifier in a higher-dimensional space. \n",
        "\n",
        "For example, something that is not linearly separable in 2D space may be linearly separable in 3D or 4D space. By taking advantage of dot products, the kernel trick allows us to find this hyperplane without actually computing the coordinates of the data in 3D or 4D space."
      ]
    },
    {
      "cell_type": "markdown",
      "metadata": {
        "id": "NWt0qBn88xPz",
        "colab_type": "text"
      },
      "source": [
        "In the cell below, create a support vector classifier which uses the RBF kernel and train it on the moon training data. Name the variable for your classifier *rbf_clf*."
      ]
    },
    {
      "cell_type": "code",
      "metadata": {
        "id": "lnxLlWD76CNd",
        "colab_type": "code",
        "colab": {
          "base_uri": "https://localhost:8080/",
          "height": 85
        },
        "outputId": "9f2fd84a-3302-494d-ad7a-91e5c27bfb9b"
      },
      "source": [
        "rbf_clf = SVC() # rbf is default kernel\n",
        "rbf_clf.fit(X_train, y_train)"
      ],
      "execution_count": 18,
      "outputs": [
        {
          "output_type": "execute_result",
          "data": {
            "text/plain": [
              "SVC(C=1.0, break_ties=False, cache_size=200, class_weight=None, coef0=0.0,\n",
              "    decision_function_shape='ovr', degree=3, gamma='scale', kernel='rbf',\n",
              "    max_iter=-1, probability=False, random_state=None, shrinking=True,\n",
              "    tol=0.001, verbose=False)"
            ]
          },
          "metadata": {
            "tags": []
          },
          "execution_count": 18
        }
      ]
    },
    {
      "cell_type": "markdown",
      "metadata": {
        "id": "7hKuAp_49Bnz",
        "colab_type": "text"
      },
      "source": [
        "Evaluate the linear SVM using the accuracy, precision, recall, and F1 metrics for both the training and testing data and print the results."
      ]
    },
    {
      "cell_type": "code",
      "metadata": {
        "id": "o6oS0OoC9Ayp",
        "colab_type": "code",
        "colab": {
          "base_uri": "https://localhost:8080/",
          "height": 204
        },
        "outputId": "9694aae3-ce7d-41e0-e44a-960f23a3d4a2"
      },
      "source": [
        "training_predictions = rbf_clf.predict(X_train)\n",
        "print(\"Evaluating RBF Kernel SVM on TRAINING data:\")\n",
        "print(\"Accuracy Score:\\t %.2f\" % accuracy_score(y_train, training_predictions))\n",
        "print(\"Precision Score: %.2f\" % precision_score(y_train, training_predictions))\n",
        "print(\"Recall Score:\\t %.2f\" % recall_score(y_train, training_predictions))\n",
        "print(\"F1 Score:\\t %.2f\" % f1_score(y_train, training_predictions))\n",
        "\n",
        "test_predictions = rbf_clf.predict(X_test)\n",
        "print(\"\\nEvaluating RBF Kernel SVM on TESTING data:\")\n",
        "print(\"Accuracy Score:\\t %.2f\" % accuracy_score(y_test, test_predictions))\n",
        "print(\"Precision Score: %.2f\" % precision_score(y_test, test_predictions))\n",
        "print(\"Recall Score:\\t %.2f\" % recall_score(y_test, test_predictions))\n",
        "print(\"F1 Score:\\t %.2f\" % f1_score(y_test, test_predictions))"
      ],
      "execution_count": 19,
      "outputs": [
        {
          "output_type": "stream",
          "text": [
            "Evaluating RBF Kernel SVM on TRAINING data:\n",
            "Accuracy Score:\t 0.99\n",
            "Precision Score: 0.99\n",
            "Recall Score:\t 0.99\n",
            "F1 Score:\t 0.99\n",
            "\n",
            "Evaluating RBF Kernel SVM on TESTING data:\n",
            "Accuracy Score:\t 1.00\n",
            "Precision Score: 1.00\n",
            "Recall Score:\t 1.00\n",
            "F1 Score:\t 1.00\n"
          ],
          "name": "stdout"
        }
      ]
    },
    {
      "cell_type": "markdown",
      "metadata": {
        "id": "jTm7-QGU9O2y",
        "colab_type": "text"
      },
      "source": [
        "**Question:** Why is the kernel support vector machine classifying the data much better than the linear SVM?"
      ]
    },
    {
      "cell_type": "markdown",
      "metadata": {
        "id": "QtOvsDww9ZE0",
        "colab_type": "text"
      },
      "source": [
        "**Answer:** It gives us more than 2 dimensions to work with in which to find a linear classifier. Thus, our hyperplane can work in a higher dimensional space which allows for a better margin. "
      ]
    },
    {
      "cell_type": "markdown",
      "metadata": {
        "id": "ds2TY4t69rPy",
        "colab_type": "text"
      },
      "source": [
        "Run the cell below to plot the decision boundary that the RBF SVM learned on the moon data. \n",
        "\n",
        "**Important:** Your variables must have been named as specified in order for this cell to work.\n",
        "\n",
        "*Note:* It is NOT important that you understand how this code works. You should focus on interpretting the plot, not the code which generated it."
      ]
    },
    {
      "cell_type": "code",
      "metadata": {
        "id": "jMKoK7U69Lrw",
        "colab_type": "code",
        "colab": {
          "base_uri": "https://localhost:8080/",
          "height": 362
        },
        "outputId": "808961bf-d53a-4aae-d324-adcb62dc0be3"
      },
      "source": [
        "fig, ax = plt.subplots()\n",
        "rbf_title = ('Decision Boundary of RBF SVM')\n",
        "\n",
        "X0, X1 = data['X_coordinate'], data['Y_coordinate']\n",
        "xx, yy = make_meshgrid(X0, X1)\n",
        "\n",
        "plot_contours(ax, rbf_clf, xx, yy, cmap=plt.cm.coolwarm, alpha=0.8)\n",
        "ax.scatter(X0, X1, c=y, cmap=plt.cm.coolwarm, s=6, edgecolors='k')\n",
        "ax.set_title(rbf_title)\n",
        "plt.show()"
      ],
      "execution_count": 20,
      "outputs": [
        {
          "output_type": "display_data",
          "data": {
            "image/png": "[encoded data removed]",
            "text/plain": [
              "<Figure size 576x396 with 1 Axes>"
            ]
          },
          "metadata": {
            "tags": []
          }
        }
      ]
    },
    {
      "cell_type": "markdown",
      "metadata": {
        "id": "cm07ozci90RF",
        "colab_type": "text"
      },
      "source": [
        "**Question:** Explain how the decision boundary changed from the linear SVM why it did so."
      ]
    },
    {
      "cell_type": "markdown",
      "metadata": {
        "id": "dzSte2yD98bd",
        "colab_type": "text"
      },
      "source": [
        "**Answer:** It changed to a non-linear decision boundary because it could find a better linear decision boundary in higher dimensional space (i.e., hyperplane). Mapped onto the original 2 dimensions, it looks nonlinear. "
      ]
    },
    {
      "cell_type": "markdown",
      "metadata": {
        "id": "6y3FC30J-NXk",
        "colab_type": "text"
      },
      "source": [
        "**Question:** What are the advantages to using a kernel SVM compared to a linear SVM? Are there any disadvantages?"
      ]
    },
    {
      "cell_type": "markdown",
      "metadata": {
        "id": "aXIsjb5k-cRJ",
        "colab_type": "text"
      },
      "source": [
        "**Answer:** Kernel SVMs tend to find better decision boundaries (i.e., produce less error). However, they are computationally intensive and require a lot of power/time, especially when # of observations and/or features are large."
      ]
    },
    {
      "cell_type": "markdown",
      "metadata": {
        "id": "06-vP9Be-eNj",
        "colab_type": "text"
      },
      "source": [
        "**Question:** Under what circumstances should you use a linear SVM and under what circumstances should you a kernel SVM instead?"
      ]
    },
    {
      "cell_type": "markdown",
      "metadata": {
        "id": "sdrdEiUT-s3s",
        "colab_type": "text"
      },
      "source": [
        "**Answer:**\n",
        "\n",
        "This is a rule of thumb that I found from Andrew Ng (https://www.youtube.com/watch?v=hDh7jmEGoY0): \n",
        "- when # of features >>> # of observations, use a linear SVM\n",
        "- when # of features <<< # of observations, use a RBF SVM\n",
        "- if # of observations are really large (50,000+), try to create more features and use linear SVM"
      ]
    }
  ]
}